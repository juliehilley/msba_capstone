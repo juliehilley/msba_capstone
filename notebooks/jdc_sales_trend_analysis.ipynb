{
 "cells": [
  {
   "cell_type": "markdown",
   "id": "83418048",
   "metadata": {},
   "source": [
    "# JDC Sales Trend Analysis (2020–2024)\n",
    "This notebook provides a deep dive into Jewelry Design Center's sales data, including:\n",
    "- Monthly revenue trends\n",
    "- Sales by weekday\n",
    "- Year-over-year seasonal patterns\n",
    "- Category-level revenue and unit performance\n",
    "\n",
    "Each section includes visualizations and commentary for decision-making and forecasting support."
   ]
  },
  {
   "cell_type": "markdown",
   "id": "394f26b4",
   "metadata": {},
   "source": [
    "## Connect to BigQuery and Load Data"
   ]
  },
  {
   "cell_type": "code",
   "execution_count": null,
   "id": "699c3411",
   "metadata": {},
   "outputs": [],
   "source": [
    "# Initialize BigQuery\n",
    "from google.cloud import bigquery\n",
    "from google.oauth2 import service_account\n",
    "import matplotlib.pyplot as plt\n",
    "import pandas as pd\n",
    "import seaborn as sns\n",
    "import numpy as np\n",
    "\n",
    "# Set your project ID\n",
    "project_id = \"capstone-project-2025-449217\"\n",
    "\n",
    "# Path to service account key file\n",
    "key_path = \"/Users/juliehilley/Desktop/__Capstone & Prep/capstone-project-2025-449217-f9f34f80492d.json\"\n",
    "\n",
    "# Initialize the BigQuery client\n",
    "credentials = service_account.Credentials.from_service_account_file(key_path)\n",
    "client = bigquery.Client(credentials=credentials, project=project_id)\n",
    "\n",
    "# Confirm the connection by listing tables in the jdc_data dataset\n",
    "dataset_id = \"jdc_data\"\n",
    "tables = client.list_tables(dataset_id)\n",
    "print(f\"Tables in dataset '{dataset_id}':\")\n",
    "for table in tables:\n",
    "    print(f\" - {table.table_id}\")\n",
    "\n",
    "# Set the correct table name\n",
    "table_name = f\"{project_id}.{dataset_id}.filtered_retail_sales\"\n",
    "\n",
    "query = f\"\"\"\n",
    "SELECT \n",
    "    FORMAT_DATE('%Y-%m', sold_date) AS year_month,\n",
    "    ROUND(SUM(sale_total), 2) AS total_sales\n",
    "FROM `{table_name}`\n",
    "WHERE sold_date IS NOT NULL\n",
    "GROUP BY year_month\n",
    "ORDER BY year_month\n",
    "\"\"\"\n",
    "\n",
    "# Run the query and store the results in a DataFrame\n",
    "query_job = client.query(query)\n",
    "df = query_job.to_dataframe()\n",
    "\n",
    "# Print the first few rows to confirm data retrieval\n",
    "print(df.head())"
   ]
  },
  {
   "cell_type": "markdown",
   "id": "c51e3c05",
   "metadata": {},
   "source": [
    "## Monthly Sales Trends"
   ]
  },
  {
   "cell_type": "code",
   "execution_count": null,
   "id": "ae93d9a3",
   "metadata": {},
   "outputs": [],
   "source": [
    "# Plot the time series if data exists\n",
    "if not df.empty:\n",
    "    plt.figure(figsize=(12, 6))\n",
    "    plt.plot(df['year_month'], df['total_sales'], marker='o', linestyle='-')\n",
    "    plt.title('Monthly Sales Trends')\n",
    "    plt.xlabel('Month')\n",
    "    plt.ylabel('Total Sales (USD)')\n",
    "    plt.xticks(rotation=45)\n",
    "    plt.grid(True)\n",
    "    plt.tight_layout()\n",
    "    plt.show()\n",
    "else:\n",
    "    print(\"No data found for the query.\")"
   ]
  },
  {
   "cell_type": "markdown",
   "id": "fb098c85",
   "metadata": {},
   "source": [
    "## Average Sales by Day of the Week"
   ]
  },
  {
   "cell_type": "code",
   "execution_count": null,
   "id": "2de532b5",
   "metadata": {},
   "outputs": [],
   "source": [
    "# Query for sales by day of the week (excluding Sunday)\n",
    "query = f\"\"\"\n",
    "SELECT \n",
    "    dayofweek,  \n",
    "    ROUND(AVG(sale_total), 2) AS average_sales\n",
    "FROM `{table_name}`\n",
    "WHERE EXTRACT(YEAR FROM sold_date) BETWEEN 2018 AND 2022\n",
    "    AND dayofweek != 'Sunday'\n",
    "GROUP BY dayofweek\n",
    "ORDER BY \n",
    "    CASE \n",
    "        WHEN dayofweek = 'Monday' THEN 1\n",
    "        WHEN dayofweek = 'Tuesday' THEN 2\n",
    "        WHEN dayofweek = 'Wednesday' THEN 3\n",
    "        WHEN dayofweek = 'Thursday' THEN 4\n",
    "        WHEN dayofweek = 'Friday' THEN 5\n",
    "        WHEN dayofweek = 'Saturday' THEN 6\n",
    "    END;\n",
    "\"\"\"\n",
    "\n",
    "# Run the query and store results in a DataFrame\n",
    "df_weekday = client.query(query).to_dataframe()"
   ]
  },
  {
   "cell_type": "markdown",
   "id": "95363328",
   "metadata": {},
   "source": [
    "## Average Monthly Sales (Aggregated)"
   ]
  },
  {
   "cell_type": "code",
   "execution_count": null,
   "id": "6037984a",
   "metadata": {},
   "outputs": [],
   "source": [
    "# Plot sales by day of the week (excluding Sunday)\n",
    "plt.figure(figsize=(10, 5))\n",
    "plt.bar(df_weekday[\"dayofweek\"], df_weekday[\"average_sales\"], color=\"royalblue\")\n",
    "plt.title(\"Average Sales by Day of the Week (Excluding Sunday, 2020-2024)\")\n",
    "plt.xlabel(\"Day of the Week\")\n",
    "plt.ylabel(\"Avg Sales (USD)\")\n",
    "plt.xticks(rotation=45)\n",
    "plt.grid(axis=\"y\", linestyle=\"--\", alpha=0.7)\n",
    "plt.show()"
   ]
  },
  {
   "cell_type": "markdown",
   "id": "e5e856eb",
   "metadata": {},
   "source": [
    "## Average Monthly Sales per Year (Multi-Line Plot)"
   ]
  },
  {
   "cell_type": "code",
   "execution_count": null,
   "id": "1570244a",
   "metadata": {},
   "outputs": [],
   "source": [
    "# Query BigQuery for monthly sales average over 5 years\n",
    "query = f\"\"\"\n",
    "SELECT \n",
    "    EXTRACT(MONTH FROM sold_date) AS month,\n",
    "    ROUND(AVG(sale_total), 2) AS avg_monthly_sales\n",
    "FROM `{table_name}`\n",
    "WHERE EXTRACT(YEAR FROM sold_date) BETWEEN 2020 AND 2024\n",
    "GROUP BY month\n",
    "ORDER BY month;\n",
    "\"\"\"\n",
    "\n",
    "# Run the query and store results in a DataFrame\n",
    "df_monthly_sales = client.query(query).to_dataframe()"
   ]
  },
  {
   "cell_type": "markdown",
   "id": "dd11bb3a",
   "metadata": {},
   "source": [
    "## Stacked Area Chart"
   ]
  },
  {
   "cell_type": "code",
   "execution_count": null,
   "id": "4ef45edb",
   "metadata": {},
   "outputs": [],
   "source": [
    "# Define month labels for readability\n",
    "month_labels = [\n",
    "    \"January\", \"February\", \"March\", \"April\", \"May\", \"June\", \n",
    "    \"July\", \"August\", \"September\", \"October\", \"November\", \"December\"\n",
    "]"
   ]
  },
  {
   "cell_type": "markdown",
   "id": "18276f31",
   "metadata": {},
   "source": [
    "## Heatmap of Monthly Sales"
   ]
  },
  {
   "cell_type": "code",
   "execution_count": null,
   "id": "7074647c",
   "metadata": {},
   "outputs": [],
   "source": [
    "# Plot the data\n",
    "plt.figure(figsize=(12, 6))\n",
    "plt.plot(df_monthly_sales[\"month\"], df_monthly_sales[\"avg_monthly_sales\"], marker=\"o\", linestyle=\"-\", color=\"royalblue\")\n",
    "plt.xticks(ticks=df_monthly_sales[\"month\"], labels=month_labels, rotation=45)\n",
    "plt.title(\"Average Monthly Sales (2020-2024)\")\n",
    "plt.xlabel(\"Month\")\n",
    "plt.ylabel(\"Avg Sales (USD)\")\n",
    "plt.grid(True, linestyle=\"--\", alpha=0.7)\n",
    "plt.show()"
   ]
  },
  {
   "cell_type": "markdown",
   "id": "90420f8a",
   "metadata": {},
   "source": [
    "## Year-over-Year Percentage Change in Monthly Sales"
   ]
  },
  {
   "cell_type": "code",
   "execution_count": null,
   "id": "8928bb5a",
   "metadata": {},
   "outputs": [],
   "source": [
    "# Query BigQuery for monthly sales average per year\n",
    "query = f\"\"\"\n",
    "SELECT \n",
    "    EXTRACT(YEAR FROM sold_date) AS year,\n",
    "    EXTRACT(MONTH FROM sold_date) AS month,\n",
    "    ROUND(AVG(sale_total), 2) AS avg_monthly_sales\n",
    "FROM `{table_name}`\n",
    "WHERE EXTRACT(YEAR FROM sold_date) BETWEEN 2020 AND 2024\n",
    "GROUP BY year, month\n",
    "ORDER BY year, month;\n",
    "\"\"\"\n",
    "\n",
    "# Run the query and store results in a DataFrame\n",
    "df_monthly_sales = client.query(query).to_dataframe()"
   ]
  },
  {
   "cell_type": "markdown",
   "id": "6a5b39f6",
   "metadata": {},
   "source": [
    "## Category-Level Revenue Analysis"
   ]
  },
  {
   "cell_type": "code",
   "execution_count": null,
   "id": "5ea0c6e6",
   "metadata": {},
   "outputs": [],
   "source": [
    "# Define month labels for readability\n",
    "month_labels = [\n",
    "    \"Jan\", \"Feb\", \"Mar\", \"Apr\", \"May\", \"Jun\", \n",
    "    \"Jul\", \"Aug\", \"Sep\", \"Oct\", \"Nov\", \"Dec\"\n",
    "]\n",
    "\n",
    "# Pivot DataFrame to have years as columns and months as index\n",
    "df_pivot = df_monthly_sales.pivot(index=\"month\", columns=\"year\", values=\"avg_monthly_sales\")"
   ]
  },
  {
   "cell_type": "markdown",
   "id": "d3d29fa0",
   "metadata": {},
   "source": [
    "## Revenue vs Units Sold (Side-by-Side and Dual-Axis)"
   ]
  },
  {
   "cell_type": "code",
   "execution_count": null,
   "id": "b7c053ad",
   "metadata": {},
   "outputs": [],
   "source": [
    "# Plot multi-line chart\n",
    "plt.figure(figsize=(12, 6))\n",
    "for year in df_pivot.columns:\n",
    "    plt.plot(df_pivot.index, df_pivot[year], marker=\"o\", linestyle=\"-\", label=str(year))\n",
    "\n",
    "# Formatting\n",
    "plt.xticks(ticks=range(1, 13), labels=month_labels, rotation=45)\n",
    "plt.title(\"Average Monthly Sales per Year (2020-2024)\")\n",
    "plt.xlabel(\"Month\")\n",
    "plt.ylabel(\"Avg Sales (USD)\")\n",
    "plt.legend(title=\"Year\")\n",
    "plt.grid(True, linestyle=\"--\", alpha=0.7)\n",
    "plt.show()\n",
    "\n",
    "\n",
    "#Area Map\n",
    "plt.figure(figsize=(12, 6))\n",
    "df_pivot.plot(kind=\"area\", stacked=False, alpha=0.4, figsize=(12, 6), colormap=\"viridis\")\n",
    "\n",
    "# Formatting\n",
    "plt.xticks(ticks=range(1, 13), labels=month_labels, rotation=45)\n",
    "plt.title(\"Average Monthly Sales per Year (2020-2024)\")\n",
    "plt.xlabel(\"Month\")\n",
    "plt.ylabel(\"Avg Sales (USD)\")\n",
    "plt.legend(title=\"Year\")\n",
    "plt.grid(True, linestyle=\"--\", alpha=0.7)\n",
    "plt.show()"
   ]
  },
  {
   "cell_type": "markdown",
   "id": "584b190a",
   "metadata": {},
   "source": [
    "## Revenue Per Unit Sold by Category"
   ]
  },
  {
   "cell_type": "code",
   "execution_count": null,
   "id": "0752cb8f",
   "metadata": {},
   "outputs": [],
   "source": [
    "# Heat Map - much better viz\n",
    "\n",
    "import seaborn as sns\n",
    "\n",
    "plt.figure(figsize=(10, 6))\n",
    "sns.heatmap(df_pivot, cmap=\"coolwarm\", annot=True, fmt=\".0f\", linewidths=0.5)\n",
    "\n",
    "# Formatting\n",
    "plt.title(\"Heatmap of Avg Monthly Sales (2020-2024)\")\n",
    "plt.xlabel(\"Year\")\n",
    "plt.ylabel(\"Month\")\n",
    "plt.yticks(ticks=range(12), labels=month_labels, rotation=0)\n",
    "plt.show()"
   ]
  },
  {
   "cell_type": "code",
   "execution_count": null,
   "id": "fed5ea75",
   "metadata": {},
   "outputs": [],
   "source": [
    "# Bar Chart showing % Change\n",
    "df_pivot_pct = df_pivot.pct_change(axis=1) * 100  # Calculate YoY percentage change\n",
    "\n",
    "df_pivot_pct.plot(kind=\"bar\", figsize=(12, 6), colormap=\"coolwarm\", edgecolor=\"black\", alpha=0.8)\n",
    "\n",
    "# Formatting\n",
    "plt.xticks(ticks=range(12), labels=month_labels, rotation=45)\n",
    "plt.title(\"Year-over-Year % Change in Monthly Sales (2020-2024)\")\n",
    "plt.xlabel(\"Month\")\n",
    "plt.ylabel(\"Percentage Change (%)\")\n",
    "plt.axhline(0, color=\"black\", linewidth=1)  # Reference line for no change\n",
    "plt.legend(title=\"Year\")\n",
    "plt.grid(axis=\"y\", linestyle=\"--\", alpha=0.7)\n",
    "plt.show()"
   ]
  },
  {
   "cell_type": "code",
   "execution_count": null,
   "id": "7613c7b7",
   "metadata": {},
   "outputs": [],
   "source": [
    "# Create the heatmap\n",
    "plt.figure(figsize=(10, 6))\n",
    "sns.heatmap(df_pivot, cmap=\"coolwarm\", annot=True, fmt=\".0f\", linewidths=0.5, cbar_kws={'label': 'Avg Sales (USD)'})\n",
    "\n",
    "# Formatting\n",
    "plt.title(\"Heatmap of Avg Monthly Sales (2020-2024)\")\n",
    "plt.xlabel(\"Year\")\n",
    "plt.ylabel(\"Month\")\n",
    "plt.yticks(ticks=range(12), labels=month_labels, rotation=0)\n",
    "plt.show()"
   ]
  },
  {
   "cell_type": "code",
   "execution_count": null,
   "id": "597079f7",
   "metadata": {},
   "outputs": [],
   "source": [
    "# Query BigQuery for top categories by revenue\n",
    "query_categories = f\"\"\"\n",
    "SELECT \n",
    "    category_name,\n",
    "    ROUND(SUM(sale_total), 2) AS total_revenue,\n",
    "    SUM(qty) AS total_units_sold\n",
    "FROM `{table_name}`\n",
    "WHERE sold_date IS NOT NULL\n",
    "GROUP BY category_name\n",
    "ORDER BY total_revenue DESC\n",
    "LIMIT 10;\n",
    "\"\"\""
   ]
  },
  {
   "cell_type": "code",
   "execution_count": null,
   "id": "144df012",
   "metadata": {},
   "outputs": [],
   "source": [
    "# Fetch data\n",
    "df_categories = client.query(query_categories).to_dataframe()"
   ]
  },
  {
   "cell_type": "code",
   "execution_count": null,
   "id": "dc904dd7",
   "metadata": {},
   "outputs": [],
   "source": [
    "# Plot top categories by revenue\n",
    "plt.figure(figsize=(10, 5))\n",
    "plt.barh(df_categories[\"category_name\"], df_categories[\"total_revenue\"], color=\"royalblue\")\n",
    "plt.xlabel(\"Total Revenue (USD)\")\n",
    "plt.ylabel(\"Category\")\n",
    "plt.title(\"Top 10 Categories by Revenue\")\n",
    "plt.gca().invert_yaxis()  # Highest value on top\n",
    "plt.grid(axis=\"x\", linestyle=\"--\", alpha=0.7)\n",
    "plt.show()"
   ]
  },
  {
   "cell_type": "code",
   "execution_count": null,
   "id": "64b63970",
   "metadata": {},
   "outputs": [],
   "source": [
    "# Query BigQuery for top categories by revenue\n",
    "query_revenue = f\"\"\"\n",
    "SELECT \n",
    "    category_name,\n",
    "    ROUND(SUM(sale_total), 2) AS total_revenue,\n",
    "    SUM(qty) AS total_units_sold\n",
    "FROM `{table_name}`\n",
    "WHERE sold_date IS NOT NULL\n",
    "GROUP BY category_name\n",
    "ORDER BY total_revenue DESC\n",
    "LIMIT 10;\n",
    "\"\"\""
   ]
  },
  {
   "cell_type": "code",
   "execution_count": null,
   "id": "d5b70dce",
   "metadata": {},
   "outputs": [],
   "source": [
    "# Query BigQuery for top categories by units sold\n",
    "query_units_sold = f\"\"\"\n",
    "SELECT \n",
    "    category_name,\n",
    "    ROUND(SUM(sale_total), 2) AS total_revenue,\n",
    "    SUM(qty) AS total_units_sold\n",
    "FROM `{table_name}`\n",
    "WHERE sold_date IS NOT NULL\n",
    "GROUP BY category_name\n",
    "ORDER BY total_units_sold DESC\n",
    "LIMIT 10;\n",
    "\"\"\""
   ]
  },
  {
   "cell_type": "code",
   "execution_count": null,
   "id": "f621a245",
   "metadata": {},
   "outputs": [],
   "source": [
    "# Fetch data\n",
    "df_revenue = client.query(query_revenue).to_dataframe()\n",
    "df_units_sold = client.query(query_units_sold).to_dataframe()"
   ]
  },
  {
   "cell_type": "code",
   "execution_count": null,
   "id": "2898e6b9",
   "metadata": {},
   "outputs": [],
   "source": [
    "# Create side-by-side bar charts\n",
    "fig, axes = plt.subplots(1, 2, figsize=(14, 6))"
   ]
  },
  {
   "cell_type": "code",
   "execution_count": null,
   "id": "7d51620c",
   "metadata": {},
   "outputs": [],
   "source": [
    "# Plot revenue-based ranking\n",
    "axes[0].barh(df_revenue[\"category_name\"], df_revenue[\"total_revenue\"], color=\"royalblue\")\n",
    "axes[0].set_xlabel(\"Total Revenue (USD)\")\n",
    "axes[0].set_ylabel(\"Category\")\n",
    "axes[0].set_title(\"Top 10 Categories by Revenue\")\n",
    "axes[0].invert_yaxis()  # Highest value on top\n",
    "axes[0].grid(axis=\"x\", linestyle=\"--\", alpha=0.7)"
   ]
  },
  {
   "cell_type": "code",
   "execution_count": null,
   "id": "a3ce21f2",
   "metadata": {},
   "outputs": [],
   "source": [
    "# Plot units-sold-based ranking\n",
    "axes[1].barh(df_units_sold[\"category_name\"], df_units_sold[\"total_units_sold\"], color=\"darkorange\")\n",
    "axes[1].set_xlabel(\"Total Units Sold\")\n",
    "axes[1].set_ylabel(\"Category\")\n",
    "axes[1].set_title(\"Top 10 Categories by Units Sold\")\n",
    "axes[1].invert_yaxis()  # Highest value on top\n",
    "axes[1].grid(axis=\"x\", linestyle=\"--\", alpha=0.7)\n",
    "\n",
    "plt.tight_layout()\n",
    "plt.show()\n",
    "\n",
    "\n",
    "\n",
    "###########################################################################"
   ]
  },
  {
   "cell_type": "code",
   "execution_count": null,
   "id": "1f94a5b8",
   "metadata": {},
   "outputs": [],
   "source": [
    "# Query BigQuery for top categories by revenue\n",
    "query = f\"\"\"\n",
    "SELECT \n",
    "    category_name,\n",
    "    ROUND(SUM(sale_total), 2) AS total_revenue,\n",
    "    SUM(qty) AS total_units_sold\n",
    "FROM `{table_name}`\n",
    "WHERE sold_date IS NOT NULL\n",
    "GROUP BY category_name\n",
    "ORDER BY total_revenue DESC\n",
    "LIMIT 10;\n",
    "\"\"\""
   ]
  },
  {
   "cell_type": "code",
   "execution_count": null,
   "id": "ce6208b9",
   "metadata": {},
   "outputs": [],
   "source": [
    "# Fetch data\n",
    "df = client.query(query).to_dataframe()"
   ]
  },
  {
   "cell_type": "code",
   "execution_count": null,
   "id": "3d338527",
   "metadata": {},
   "outputs": [],
   "source": [
    "# Define positions for bars\n",
    "x = np.arange(len(df[\"category_name\"]))  # X-axis positions\n",
    "width = 0.4  # Bar width"
   ]
  },
  {
   "cell_type": "code",
   "execution_count": null,
   "id": "3f3ddab3",
   "metadata": {},
   "outputs": [],
   "source": [
    "# Create figure\n",
    "fig, ax = plt.subplots(figsize=(12, 6))"
   ]
  },
  {
   "cell_type": "code",
   "execution_count": null,
   "id": "33ed0edf",
   "metadata": {},
   "outputs": [],
   "source": [
    "# Plot revenue bars\n",
    "bars1 = ax.bar(x - width/2, df[\"total_revenue\"], width, color=\"royalblue\", label=\"Total Revenue (USD)\")"
   ]
  },
  {
   "cell_type": "code",
   "execution_count": null,
   "id": "32646fd8",
   "metadata": {},
   "outputs": [],
   "source": [
    "# Plot units sold bars\n",
    "bars2 = ax.bar(x + width/2, df[\"total_units_sold\"], width, color=\"darkorange\", label=\"Total Units Sold\")\n",
    "\n",
    "# Formatting\n",
    "ax.set_xticks(x)\n",
    "ax.set_xticklabels(df[\"category_name\"], rotation=45, ha=\"right\")  # Rotate for readability\n",
    "ax.set_xlabel(\"Category\")\n",
    "ax.set_ylabel(\"Amount\")\n",
    "ax.set_title(\"Top 10 Categories: Revenue vs. Units Sold\")\n",
    "ax.legend()\n",
    "ax.grid(axis=\"y\", linestyle=\"--\", alpha=0.7)\n",
    "\n",
    "# Show plot\n",
    "plt.tight_layout()\n",
    "plt.show()"
   ]
  },
  {
   "cell_type": "code",
   "execution_count": null,
   "id": "c4ff0cf8",
   "metadata": {},
   "outputs": [],
   "source": [
    "# Query BigQuery for top categories by revenue\n",
    "query = f\"\"\"\n",
    "SELECT \n",
    "    category_name,\n",
    "    ROUND(SUM(sale_total), 2) AS total_revenue,\n",
    "    SUM(qty) AS total_units_sold\n",
    "FROM `{table_name}`\n",
    "WHERE sold_date IS NOT NULL\n",
    "GROUP BY category_name\n",
    "ORDER BY total_revenue DESC\n",
    "LIMIT 10;\n",
    "\"\"\""
   ]
  },
  {
   "cell_type": "code",
   "execution_count": null,
   "id": "ae3e2136",
   "metadata": {},
   "outputs": [],
   "source": [
    "# Fetch data\n",
    "df = client.query(query).to_dataframe()"
   ]
  },
  {
   "cell_type": "code",
   "execution_count": null,
   "id": "b5898624",
   "metadata": {},
   "outputs": [],
   "source": [
    "# Define positions for bars\n",
    "x = np.arange(len(df[\"category_name\"]))  # X-axis positions\n",
    "width = 0.4  # Bar width"
   ]
  },
  {
   "cell_type": "code",
   "execution_count": null,
   "id": "353121b3",
   "metadata": {},
   "outputs": [],
   "source": [
    "# Create figure\n",
    "fig, ax1 = plt.subplots(figsize=(12, 6))"
   ]
  },
  {
   "cell_type": "code",
   "execution_count": null,
   "id": "e7288013",
   "metadata": {},
   "outputs": [],
   "source": [
    "# Plot revenue bars (primary y-axis)\n",
    "bars1 = ax1.bar(x - width/2, df[\"total_revenue\"], width, color=\"royalblue\", label=\"Total Revenue (USD)\")\n",
    "\n",
    "# Set primary y-axis (Revenue)\n",
    "ax1.set_xlabel(\"Category\")\n",
    "ax1.set_ylabel(\"Total Revenue (USD)\")\n",
    "ax1.set_xticks(x)\n",
    "ax1.set_xticklabels(df[\"category_name\"], rotation=45, ha=\"right\")  # Rotate for readability\n",
    "ax1.grid(axis=\"y\", linestyle=\"--\", alpha=0.7)"
   ]
  },
  {
   "cell_type": "code",
   "execution_count": null,
   "id": "9606b8aa",
   "metadata": {},
   "outputs": [],
   "source": [
    "# Create secondary y-axis for units sold\n",
    "ax2 = ax1.twinx()\n",
    "bars2 = ax2.bar(x + width/2, df[\"total_units_sold\"], width, color=\"darkorange\", label=\"Total Units Sold\")\n",
    "\n",
    "# Set secondary y-axis (Units Sold)\n",
    "ax2.set_ylabel(\"Total Units Sold\")"
   ]
  },
  {
   "cell_type": "code",
   "execution_count": null,
   "id": "deb9a41e",
   "metadata": {},
   "outputs": [],
   "source": [
    "# Create a combined legend\n",
    "fig.legend(loc=\"upper right\", bbox_to_anchor=(1,1), bbox_transform=ax1.transAxes)\n",
    "\n",
    "# Show plot\n",
    "plt.title(\"Top 10 Categories: Revenue vs. Units Sold\")\n",
    "plt.show()"
   ]
  },
  {
   "cell_type": "code",
   "execution_count": null,
   "id": "7447fc92",
   "metadata": {},
   "outputs": [],
   "source": [
    "# Query BigQuery for revenue per unit sold\n",
    "query = f\"\"\"\n",
    "SELECT \n",
    "    category_name,\n",
    "    ROUND(SUM(sale_total), 2) AS total_revenue,\n",
    "    SUM(qty) AS total_units_sold,\n",
    "    ROUND(SUM(sale_total) / NULLIF(SUM(qty), 0), 2) AS revenue_per_unit\n",
    "FROM `{table_name}`\n",
    "WHERE sold_date IS NOT NULL\n",
    "GROUP BY category_name\n",
    "ORDER BY revenue_per_unit DESC\n",
    "LIMIT 10;\n",
    "\"\"\""
   ]
  },
  {
   "cell_type": "code",
   "execution_count": null,
   "id": "a6d613c8",
   "metadata": {},
   "outputs": [],
   "source": [
    "# Fetch data\n",
    "df = client.query(query).to_dataframe()"
   ]
  },
  {
   "cell_type": "code",
   "execution_count": null,
   "id": "23d69176",
   "metadata": {},
   "outputs": [],
   "source": [
    "# Plot revenue per unit sold\n",
    "plt.figure(figsize=(12, 6))\n",
    "plt.bar(df[\"category_name\"], df[\"revenue_per_unit\"], color=\"royalblue\")\n",
    "plt.xlabel(\"Category\")\n",
    "plt.ylabel(\"Revenue per Unit (USD)\")\n",
    "plt.title(\"Revenue Per Unit Sold by Category\")\n",
    "plt.xticks(rotation=45, ha=\"right\")\n",
    "plt.grid(axis=\"y\", linestyle=\"--\", alpha=0.7)\n",
    "plt.show()\n",
    "\n",
    "\n",
    "## Revenue Per Unit Sold - Top 10 categories"
   ]
  },
  {
   "cell_type": "code",
   "execution_count": null,
   "id": "6f486f4e",
   "metadata": {},
   "outputs": [],
   "source": [
    "# Query BigQuery for revenue per unit sold\n",
    "query = f\"\"\"\n",
    "SELECT \n",
    "    category_name,\n",
    "    ROUND(SUM(sale_total), 2) AS total_revenue,\n",
    "    SUM(qty) AS total_units_sold,\n",
    "    ROUND(SUM(sale_total) / NULLIF(SUM(qty), 0), 2) AS revenue_per_unit\n",
    "FROM `{table_name}`\n",
    "WHERE sold_date IS NOT NULL\n",
    "GROUP BY category_name\n",
    "ORDER BY revenue_per_unit DESC\n",
    "LIMIT 10;\n",
    "\"\"\""
   ]
  },
  {
   "cell_type": "code",
   "execution_count": null,
   "id": "9fb656a0",
   "metadata": {},
   "outputs": [],
   "source": [
    "# Fetch data\n",
    "df = client.query(query).to_dataframe()"
   ]
  },
  {
   "cell_type": "code",
   "execution_count": null,
   "id": "b7ec26b2",
   "metadata": {},
   "outputs": [],
   "source": [
    "# Plot revenue per unit sold\n",
    "plt.figure(figsize=(12, 6))\n",
    "plt.bar(df[\"category_name\"], df[\"revenue_per_unit\"], color=\"royalblue\")\n",
    "plt.xlabel(\"Category\")\n",
    "plt.ylabel(\"Revenue per Unit (USD)\")\n",
    "plt.title(\"Revenue Per Unit Sold by Category\")\n",
    "plt.xticks(rotation=45, ha=\"right\")\n",
    "plt.grid(axis=\"y\", linestyle=\"--\", alpha=0.7)\n",
    "plt.show()"
   ]
  }
 ],
 "metadata": {
  "kernelspec": {
   "display_name": "base",
   "language": "python",
   "name": "python3"
  },
  "language_info": {
   "codemirror_mode": {
    "name": "ipython",
    "version": 3
   },
   "file_extension": ".py",
   "mimetype": "text/x-python",
   "name": "python",
   "nbconvert_exporter": "python",
   "pygments_lexer": "ipython3",
   "version": "3.11.8"
  }
 },
 "nbformat": 4,
 "nbformat_minor": 5
}
